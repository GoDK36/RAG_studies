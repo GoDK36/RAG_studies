{
 "cells": [
  {
   "cell_type": "code",
   "execution_count": 6,
   "metadata": {},
   "outputs": [],
   "source": [
    "import bs4\n",
    "from langchain import hub\n",
    "from langchain.text_splitter import RecursiveCharacterTextSplitter\n",
    "from langchain_community.document_loaders import WebBaseLoader\n",
    "from langchain_community.vectorstores import FAISS\n",
    "from langchain_core.output_parsers import StrOutputParser\n",
    "from langchain_core.runnables import RunnablePassthrough\n",
    "from langchain_google_genai import ChatGoogleGenerativeAI\n",
    "## 허깅페이스를 사용한 임베딩\n",
    "from langchain_community.embeddings import HuggingFaceEmbeddings"
   ]
  },
  {
   "cell_type": "code",
   "execution_count": 1,
   "metadata": {},
   "outputs": [
    {
     "data": {
      "text/plain": [
       "True"
      ]
     },
     "execution_count": 1,
     "metadata": {},
     "output_type": "execute_result"
    }
   ],
   "source": [
    "from dotenv import load_dotenv\n",
    "\n",
    "load_dotenv()"
   ]
  },
  {
   "cell_type": "code",
   "execution_count": 2,
   "metadata": {},
   "outputs": [
    {
     "name": "stdout",
     "output_type": "stream",
     "text": [
      "문서의 수: 1\n",
      "\n",
      "[메타데이터]\n",
      "\n",
      "{'source': 'D:\\\\Shin\\\\NLP\\\\Corpus\\\\namuwikitext\\\\texts\\\\namuwikitext_20200302-test.txt'}\n",
      "\n",
      "========= [앞부분] 미리보기 =========\n",
      "\n",
      " = 우오 켄 =\n",
      "\n",
      "[목차]\n",
      "\n",
      " = 개요 =\n",
      "\n",
      "魚 建\n",
      "일본의 남자 성우.\n",
      "\n",
      " = 약력 =\n",
      "\n",
      "1965년 7월 13일 일본 사이타마 현 출생\n",
      "\n",
      " = 출연 =\n",
      "\n",
      "명탐정 코난 - 오구라 카츠마사 ( 2회 이상 조연 )\n",
      "2013.11 - 아카자 나루야 ( 716~717 )\n",
      "2018.10 -\n",
      "틴 타이탄,틴 타이탄 GO! - 사이보그\n",
      "포켓몬스터 썬&문 ( 2019 ) - 소푸우\n",
      "후르츠 바스켓 - 혼다 카츠야의 아버지\n",
      "이세계 치트 마술사 - 제라드\n",
      "덤벨 몇 킬로까지 들 수 있어? - TV 장기자랑대회 프로듀서\n",
      "ULTRAMAN - 이데 미츠히로\n",
      "\n",
      " = 박세웅(1996) =\n",
      "\n",
      " = = 개요 = =\n",
      "\n",
      "삼성 라이온즈 소속의 좌완 투수.\n",
      "\n",
      " = = 선수 경력 = =\n",
      "\n",
      " = = = 아마추어 시절 = = =\n",
      "\n",
      "한 해 선배인 황영국과 동기인 주권과 함께 2013년 청주고의 돌풍을 주도하면서 맹활약했다. 비록 창단 40년만에 처음으로 전국 대회 결승에 오른 청주고의 돌풍은 협회장기와 전국체전 준우승으로 끝나며 아\n"
     ]
    }
   ],
   "source": [
    "from langchain_community.document_loaders import TextLoader\n",
    "\n",
    "loader = TextLoader(file_path=r\"D:\\Shin\\NLP\\Corpus\\namuwikitext\\texts\\namuwikitext_20200302-ALL.txt\", encoding=\"utf-8\")\n",
    "\n",
    "docs = loader.load()\n",
    "\n",
    "print(f\"문서의 수: {len(docs)}\\n\")\n",
    "print(\"[메타데이터]\\n\")\n",
    "print(docs[0].metadata)\n",
    "print(\"\\n========= [앞부분] 미리보기 =========\\n\")\n",
    "print(docs[0].page_content[:500])"
   ]
  },
  {
   "cell_type": "code",
   "execution_count": 4,
   "metadata": {},
   "outputs": [
    {
     "data": {
      "text/plain": [
       "16489"
      ]
     },
     "execution_count": 4,
     "metadata": {},
     "output_type": "execute_result"
    }
   ],
   "source": [
    "text_splitter = RecursiveCharacterTextSplitter(\n",
    "    chunk_size=1000, chunk_overlap=50)\n",
    "\n",
    "splits = text_splitter.split_documents(docs)\n",
    "len(splits)"
   ]
  },
  {
   "cell_type": "code",
   "execution_count": 8,
   "metadata": {},
   "outputs": [
    {
     "name": "stderr",
     "output_type": "stream",
     "text": [
      "Batches:   3%|▎         | 14/516 [02:51<2:00:58, 14.46s/it]"
     ]
    }
   ],
   "source": [
    "model_name = \"BAAI/bge-m3\"     # 2024.02.21 embedding model 변경(기존: jhgan/ko-sroberta-multitask)\n",
    "model_kwargs = {'device': 'cuda'}\n",
    "encode_kwargs = {'normalize_embeddings': True}\n",
    "hf = HuggingFaceEmbeddings(\n",
    "    model_name=model_name,\n",
    "    model_kwargs=model_kwargs,\n",
    "    encode_kwargs=encode_kwargs,\n",
    "    show_progress=True\n",
    ")\n",
    "\n",
    "# 벡터스토어를 생성합니다.\n",
    "vectorstore = FAISS.from_documents(\n",
    "    documents=splits, embedding=hf)\n",
    "\n",
    "# 뉴스에 포함되어 있는 정보를 검색하고 생성합니다.\n",
    "retriever = vectorstore.as_retriever()"
   ]
  },
  {
   "cell_type": "code",
   "execution_count": null,
   "metadata": {},
   "outputs": [],
   "source": [
    "prompt = hub.pull(\"godk/korean-rag\")\n",
    "prompt"
   ]
  },
  {
   "cell_type": "code",
   "execution_count": null,
   "metadata": {},
   "outputs": [],
   "source": [
    "print(prompt.messages[0].prompt.template)"
   ]
  },
  {
   "cell_type": "code",
   "execution_count": null,
   "metadata": {},
   "outputs": [],
   "source": [
    "llm = ChatGoogleGenerativeAI(model='gemini-pro', temperature=0.0, convert_system_message_to_human=True)\n",
    "\n",
    "\n",
    "def format_docs(docs):\n",
    "    # 검색한 문서 결과를 하나의 문단으로 합쳐줍니다.\n",
    "    return \"\\n\\n\".join(doc.page_content for doc in docs)\n",
    "\n",
    "\n",
    "# 체인을 생성합니다.\n",
    "rag_chain = (\n",
    "    {\"context\": retriever | format_docs, \"question\": RunnablePassthrough()}\n",
    "    | prompt\n",
    "    | llm\n",
    "    | StrOutputParser()\n",
    ")"
   ]
  },
  {
   "cell_type": "code",
   "execution_count": null,
   "metadata": {},
   "outputs": [],
   "source": [
    "rag_chain.invoke(\n",
    "    \"부영그룹의 출산 장려 정책에 대해 설명해주세요.\"\n",
    ")  # 문서에 대한 질의를 입력하고, 답변을 출력합니다."
   ]
  }
 ],
 "metadata": {
  "kernelspec": {
   "display_name": "RAG_venv",
   "language": "python",
   "name": "python3"
  },
  "language_info": {
   "codemirror_mode": {
    "name": "ipython",
    "version": 3
   },
   "file_extension": ".py",
   "mimetype": "text/x-python",
   "name": "python",
   "nbconvert_exporter": "python",
   "pygments_lexer": "ipython3",
   "version": "3.9.13"
  }
 },
 "nbformat": 4,
 "nbformat_minor": 2
}
